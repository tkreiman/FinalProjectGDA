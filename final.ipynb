{
 "cells": [
  {
   "cell_type": "code",
   "execution_count": 2,
   "metadata": {},
   "outputs": [
    {
     "data": {
      "text/plain": [
       "DecisionTreeClassifier(ccp_alpha=0.0, class_weight=None, criterion='gini',\n",
       "                       max_depth=None, max_features=None, max_leaf_nodes=3,\n",
       "                       min_impurity_decrease=0.0, min_impurity_split=None,\n",
       "                       min_samples_leaf=1, min_samples_split=2,\n",
       "                       min_weight_fraction_leaf=0.0, presort='deprecated',\n",
       "                       random_state=0, splitter='best')"
      ]
     },
     "execution_count": 2,
     "metadata": {},
     "output_type": "execute_result"
    }
   ],
   "source": [
    "import numpy as np\n",
    "from matplotlib import pyplot as plt\n",
    "\n",
    "from sklearn.model_selection import train_test_split\n",
    "from sklearn.datasets import load_iris\n",
    "from sklearn.tree import DecisionTreeClassifier\n",
    "from sklearn import tree\n",
    "\n",
    "iris = load_iris()\n",
    "X = iris.data\n",
    "y = iris.target\n",
    "X_train, X_test, y_train, y_test = train_test_split(X, y, random_state=0)\n",
    "from sklearn.pipeline import Pipeline\n",
    "\n",
    "from sklearn.preprocessing import StandardScaler\n",
    "\n",
    "clf = DecisionTreeClassifier(max_leaf_nodes=3, random_state=0)\n",
    "\n",
    "pipeline_obj = Pipeline([\n",
    " \t\t(\"scaler\",StandardScaler()),\n",
    " \t\t(\"model\",clf)\n",
    " ])\n",
    "\n",
    "pipeline_obj.fit(X_train, y_train)\n",
    "clf.fit(X_train, y_train)"
   ]
  },
  {
   "cell_type": "code",
   "execution_count": 3,
   "metadata": {},
   "outputs": [
    {
     "data": {
      "text/plain": [
       "[Text(133.92000000000002, 181.2, 'X[3] <= 0.8\\ngini = 0.665\\nsamples = 112\\nvalue = [37, 34, 41]'),\n",
       " Text(66.96000000000001, 108.72, 'gini = 0.0\\nsamples = 37\\nvalue = [37, 0, 0]'),\n",
       " Text(200.88000000000002, 108.72, 'X[2] <= 4.95\\ngini = 0.496\\nsamples = 75\\nvalue = [0, 34, 41]'),\n",
       " Text(133.92000000000002, 36.23999999999998, 'gini = 0.153\\nsamples = 36\\nvalue = [0, 33, 3]'),\n",
       " Text(267.84000000000003, 36.23999999999998, 'gini = 0.05\\nsamples = 39\\nvalue = [0, 1, 38]')]"
      ]
     },
     "execution_count": 3,
     "metadata": {},
     "output_type": "execute_result"
    },
    {
     "data": {
      "image/png": "[encoded data removed]",
      "text/plain": [
       "<Figure size 432x288 with 1 Axes>"
      ]
     },
     "metadata": {
      "needs_background": "light"
     },
     "output_type": "display_data"
    }
   ],
   "source": [
    "from sklearn import tree\n",
    "tree.plot_tree(clf)"
   ]
  },
  {
   "cell_type": "code",
   "execution_count": 43,
   "metadata": {},
   "outputs": [],
   "source": [
    "n_nodes = clf.tree_.node_count\n",
    "children_left = clf.tree_.children_left\n",
    "children_right = clf.tree_.children_right\n",
    "feature = clf.tree_.feature\n",
    "threshold = clf.tree_.threshold\n",
    "labels = [np.argmax(v) for v in clf.tree_.value]\n"
   ]
  },
  {
   "cell_type": "code",
   "execution_count": 6,
   "metadata": {},
   "outputs": [
    {
     "data": {
      "text/plain": [
       "array([[[37., 34., 41.]],\n",
       "\n",
       "       [[37.,  0.,  0.]],\n",
       "\n",
       "       [[ 0., 34., 41.]],\n",
       "\n",
       "       [[ 0., 33.,  3.]],\n",
       "\n",
       "       [[ 0.,  1., 38.]]])"
      ]
     },
     "execution_count": 6,
     "metadata": {},
     "output_type": "execute_result"
    }
   ],
   "source": [
    "clf.tree_.value"
   ]
  },
  {
   "cell_type": "code",
   "execution_count": 42,
   "metadata": {},
   "outputs": [
    {
     "data": {
      "text/plain": [
       "[2, 0, 2, 1, 2]"
      ]
     },
     "execution_count": 42,
     "metadata": {},
     "output_type": "execute_result"
    }
   ],
   "source": [
    "values"
   ]
  },
  {
   "cell_type": "code",
   "execution_count": 27,
   "metadata": {},
   "outputs": [],
   "source": [
    "def getLength(feat, thresh):\n",
    "    return 1\n",
    "\n",
    "def getLengthLeaf(label):\n",
    "    return 2\n",
    "\n",
    "def getString(tree):\n",
    "\n",
    "    tree_string = \"(\"\n",
    "\n",
    "    n_nodes = clf.tree_.node_count\n",
    "    children_left = clf.tree_.children_left\n",
    "    children_right = clf.tree_.children_right\n",
    "    feature = clf.tree_.feature\n",
    "    threshold = clf.tree_.threshold\n",
    "    n_nodes = clf.tree_.node_count\n",
    "\n",
    "    labels = [np.argmax(v) for v in clf.tree_.value]\n",
    "\n",
    "\n",
    "    node_depth = np.zeros(shape=n_nodes, dtype=np.int64)\n",
    "    is_leaves = np.zeros(shape=n_nodes, dtype=bool)\n",
    "    stack = [(0, 0)]  # start with the root node id (0) and its depth (0)\n",
    "    while len(stack) > 0:\n",
    "        # `pop` ensures each node is only visited once\n",
    "        node_id, depth = stack.pop()\n",
    "        node_depth[node_id] = depth\n",
    "\n",
    "        # If the left and right child of a node is not the same we have a split\n",
    "        # node\n",
    "        is_split_node = children_left[node_id] != children_right[node_id]\n",
    "        # If a split node, append left and right children and depth to `stack`\n",
    "        # so we can loop through them\n",
    "        if is_split_node:\n",
    "            stack.append((children_left[node_id], depth + 1))\n",
    "            stack.append((children_right[node_id], depth + 1))\n",
    "        else:\n",
    "            is_leaves[node_id] = True\n",
    "    \n",
    "\n",
    "    curr_depth = 0\n",
    "    interior_node_weights = []\n",
    "\n",
    "\n",
    "    for i in range(n_nodes):\n",
    "        depth = node_depth[i]\n",
    "\n",
    "        if depth != curr_depth:\n",
    "            tree_string += \"(\"\n",
    "            curr_depth = depth\n",
    "            \n",
    "       \n",
    "        if is_leaves[i]:\n",
    "            tree_string += \"Leaf\" + str(i) + \": \" + str(getLengthLeaf(labels[i])) + \", \"\n",
    "            \n",
    "        else:\n",
    "            \n",
    "            interior_node_weights.append(\"):\" + str(getLength(feature[i], threshold[i])))\n",
    "            #tree_string += \"Node\" + str(i) + \": \" + str(getLength(feature[i], threshold[i])) + \", \"\n",
    "    \n",
    "    tree_string = tree_string[:-2]\n",
    "    for i in range(curr_depth):\n",
    "        tree_string += interior_node_weights[i]\n",
    "\n",
    "    tree_string += \";\"\n",
    "    return tree_string\n",
    "            "
   ]
  },
  {
   "cell_type": "code",
   "execution_count": 28,
   "metadata": {},
   "outputs": [
    {
     "data": {
      "text/plain": [
       "'((Leaf1: 2, (Leaf3: 2, Leaf4: 2):1):1;'"
      ]
     },
     "execution_count": 28,
     "metadata": {},
     "output_type": "execute_result"
    }
   ],
   "source": [
    "getString(clf)"
   ]
  },
  {
   "cell_type": "code",
   "execution_count": 11,
   "metadata": {},
   "outputs": [],
   "source": [
    "import Bio"
   ]
  },
  {
   "cell_type": "code",
   "execution_count": 12,
   "metadata": {},
   "outputs": [
    {
     "name": "stdout",
     "output_type": "stream",
     "text": [
      "Collecting nyoka\n",
      "  Downloading nyoka-5.2.0-py3-none-any.whl (303 kB)\n",
      "     |████████████████████████████████| 303 kB 6.1 MB/s            \n",
      "\u001b[?25hRequirement already satisfied: lxml in /Users/tobykreiman/anaconda/lib/python3.6/site-packages (from nyoka) (4.5.2)\n",
      "Installing collected packages: nyoka\n",
      "Successfully installed nyoka-5.2.0\n",
      "Note: you may need to restart the kernel to use updated packages.\n"
     ]
    }
   ],
   "source": [
    "pip install --upgrade nyoka"
   ]
  },
  {
   "cell_type": "code",
   "execution_count": 19,
   "metadata": {},
   "outputs": [],
   "source": [
    "from nyoka import skl_to_pmml\n",
    "res = skl_to_pmml(pipeline=pipeline_obj,col_names=iris.feature_names,target_name=\"species\",pmml_f_name=\"decision_tree.pmml\")"
   ]
  },
  {
   "cell_type": "code",
   "execution_count": 21,
   "metadata": {},
   "outputs": [],
   "source": [
    "from Bio import Phylo\n"
   ]
  },
  {
   "cell_type": "code",
   "execution_count": 32,
   "metadata": {},
   "outputs": [],
   "source": [
    "tree = Phylo.parse(\"decision_tree.pmml\", \"phyloxml\")"
   ]
  },
  {
   "cell_type": "code",
   "execution_count": 24,
   "metadata": {},
   "outputs": [
    {
     "data": {
      "text/plain": [
       "<generator object parse at 0x7fa0007f4ca8>"
      ]
     },
     "execution_count": 24,
     "metadata": {},
     "output_type": "execute_result"
    }
   ],
   "source": [
    "tree"
   ]
  },
  {
   "cell_type": "code",
   "execution_count": 35,
   "metadata": {},
   "outputs": [],
   "source": [
    "for t in tree:\n",
    "    print(1, t)"
   ]
  },
  {
   "cell_type": "code",
   "execution_count": null,
   "metadata": {},
   "outputs": [],
   "source": []
  }
 ],
 "metadata": {
  "interpreter": {
   "hash": "ff9ba6e7450900e258cbe2cf5c914dc26090964767f5495c41a25835ba7b1e03"
  },
  "kernelspec": {
   "display_name": "Python 3.6.10 ('base')",
   "language": "python",
   "name": "python3"
  },
  "language_info": {
   "codemirror_mode": {
    "name": "ipython",
    "version": 3
   },
   "file_extension": ".py",
   "mimetype": "text/x-python",
   "name": "python",
   "nbconvert_exporter": "python",
   "pygments_lexer": "ipython3",
   "version": "3.6.10"
  },
  "orig_nbformat": 4
 },
 "nbformat": 4,
 "nbformat_minor": 2
}
